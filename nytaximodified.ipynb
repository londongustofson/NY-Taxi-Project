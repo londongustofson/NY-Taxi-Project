{
 "cells": [
  {
   "cell_type": "code",
   "execution_count": 11,
   "metadata": {},
   "outputs": [],
   "source": [
    "# Dependencies\n",
    "import json\n",
    "import numpy as np\n",
    "import pandas as pd\n",
    "import matplotlib.pyplot as plt\n",
    "import math\n",
    "import calendar\n",
    "import statsmodels.formula.api as sm\n",
    "from sklearn.linear_model import LinearRegression\n",
    "from datetime import datetime\n",
    "import warnings\n",
    "warnings.filterwarnings('ignore')"
   ]
  },
  {
   "cell_type": "code",
   "execution_count": 12,
   "metadata": {},
   "outputs": [],
   "source": [
    "#load the full dataset and conduct data cleaning\n",
    "# train_data=pd.read_csv('Resources/train.csv')"
   ]
  },
  {
   "cell_type": "code",
   "execution_count": 13,
   "metadata": {},
   "outputs": [],
   "source": [
    "#descriptives of train_data to spot any thing that requires cleaning\n",
    "#train_data.describe()"
   ]
  },
  {
   "cell_type": "code",
   "execution_count": 14,
   "metadata": {},
   "outputs": [],
   "source": [
    "#drop the rows that fares are negative or equal to 0\n",
    "#train_cleaned = train_data.drop(train_data[train_data['fare_amount']<=0].index)\n",
    "\n",
    "#making sure all pick-up and drop-off are based inside New York City.\n",
    "#New York City latitude and longitude range is: North Latitude: 40.917577 South Latitude: 40.477399 East Longitude: -73.700272 West Longitude: -74.259090\n",
    "#Source: https://www.mapdevelopers.com/geocode_bounding_box.php\n",
    "#Data out of the range will be cleaned out\n",
    "#train_cleaned = train_cleaned.drop(train_cleaned[train_cleaned['pickup_longitude']>-73.700272].index)\n",
    "#train_cleaned = train_cleaned.drop(train_cleaned[train_cleaned['pickup_longitude']<-74.259090].index)\n",
    "#train_cleaned = train_cleaned.drop(train_cleaned[train_cleaned['dropoff_longitude']>-73.700272].index)\n",
    "#train_cleaned = train_cleaned.drop(train_cleaned[train_cleaned['dropoff_longitude']<-74.259090].index)\n",
    "#train_cleaned = train_cleaned.drop(train_cleaned[train_cleaned['pickup_latitude']>40.917577].index)\n",
    "#train_cleaned = train_cleaned.drop(train_cleaned[train_cleaned['pickup_latitude']<40.477399].index)\n",
    "#train_cleaned = train_cleaned.drop(train_cleaned[train_cleaned['dropoff_latitude']>40.917577].index)\n",
    "#train_cleaned = train_cleaned.drop(train_cleaned[train_cleaned['dropoff_latitude']<40.477399].index)"
   ]
  },
  {
   "cell_type": "code",
   "execution_count": 15,
   "metadata": {},
   "outputs": [],
   "source": [
    "#cleaned out the fare > 500\n",
    "#train_cleaned = train_cleaned.drop(train_cleaned[train_cleaned['fare_amount']>500].index)\n",
    "#train_cleaned.describe()"
   ]
  },
  {
   "cell_type": "code",
   "execution_count": 16,
   "metadata": {},
   "outputs": [],
   "source": [
    "#cleaend out passenger_count > 9\n",
    "#train_cleaned = train_cleaned.drop(train_cleaned[train_cleaned['passenger_count']>9].index)\n",
    "#final clean data descriptives\n",
    "#train_cleaned.describe()"
   ]
  },
  {
   "cell_type": "code",
   "execution_count": 17,
   "metadata": {},
   "outputs": [],
   "source": [
    "#sample 25% of the training data\n",
    "#sample_data = train_data.sample(frac=.25)\n",
    "#sample_data.tail()\n",
    "#sample_data.to_csv(\"Resources/sample.csv\")\n",
    "#sample_data.to_csv('Resources/sample_data_cleaned.csv', sep='\\t')\n",
    "#save the cleaned train data to csv\n",
    "#train_cleaned.to_csv('train_data_cleaned.csv', sep='\\t')"
   ]
  },
  {
   "cell_type": "code",
   "execution_count": 18,
   "metadata": {},
   "outputs": [],
   "source": [
    "#Reading the cleaned 25% sample data from csv to use forward\n",
    "data_df = pd.read_csv('Resources/sample_data_cleaned.csv')\n",
    "\n",
    "# ------ TEMPORARY ----------\n",
    "data_df = data_df.sample(frac=.25)"
   ]
  },
  {
   "cell_type": "code",
   "execution_count": 19,
   "metadata": {},
   "outputs": [],
   "source": [
    "#calculate the distance between pick-up and drop-off spot\n",
    "def distance(row):\n",
    "    \"\"\"\n",
    "    Calculate the Haversine distance.\n",
    "\n",
    "    Parameters\n",
    "    ----------\n",
    "    origin : tuple of float\n",
    "        (lat, long)\n",
    "    destination : tuple of float\n",
    "        (lat, long)\n",
    "\n",
    "    Returns\n",
    "    -------\n",
    "    distance_in_km : float\n",
    "\n",
    "    Examples\n",
    "    --------\n",
    "    >>> origin = (48.1372, 11.5756)  # Munich\n",
    "    >>> destination = (52.5186, 13.4083)  # Berlin\n",
    "    >>> round(distance(origin, destination), 1)\n",
    "    504.2\n",
    "    \"\"\"\n",
    "    lat1, lon1 = row['pickup_latitude'], row['pickup_longitude']\n",
    "    lat2, lon2 = row['dropoff_latitude'], row['dropoff_longitude']\n",
    "    radius = 6371  # km\n",
    "\n",
    "    dlat = math.radians(lat2 - lat1)\n",
    "    dlon = math.radians(lon2 - lon1)\n",
    "    a = (math.sin(dlat / 2) * math.sin(dlat / 2) +\n",
    "         math.cos(math.radians(lat1)) * math.cos(math.radians(lat2)) *\n",
    "         math.sin(dlon / 2) * math.sin(dlon / 2))\n",
    "    c = 2 * math.atan2(math.sqrt(a), math.sqrt(1 - a))\n",
    "    d = radius * c\n",
    "\n",
    "    return d"
   ]
  },
  {
   "cell_type": "code",
   "execution_count": null,
   "metadata": {},
   "outputs": [
    {
     "data": {
      "text/html": [
       "<div>\n",
       "<style scoped>\n",
       "    .dataframe tbody tr th:only-of-type {\n",
       "        vertical-align: middle;\n",
       "    }\n",
       "\n",
       "    .dataframe tbody tr th {\n",
       "        vertical-align: top;\n",
       "    }\n",
       "\n",
       "    .dataframe thead th {\n",
       "        text-align: right;\n",
       "    }\n",
       "</style>\n",
       "<table border=\"1\" class=\"dataframe\">\n",
       "  <thead>\n",
       "    <tr style=\"text-align: right;\">\n",
       "      <th></th>\n",
       "      <th>Unnamed: 0</th>\n",
       "      <th>Unnamed: 0.1</th>\n",
       "      <th>key</th>\n",
       "      <th>fare_amount</th>\n",
       "      <th>pickup_datetime</th>\n",
       "      <th>pickup_longitude</th>\n",
       "      <th>pickup_latitude</th>\n",
       "      <th>dropoff_longitude</th>\n",
       "      <th>dropoff_latitude</th>\n",
       "      <th>passenger_count</th>\n",
       "    </tr>\n",
       "  </thead>\n",
       "  <tbody>\n",
       "    <tr>\n",
       "      <th>13756128</th>\n",
       "      <td>13804748</td>\n",
       "      <td>49984689</td>\n",
       "      <td>2009-10-05 19:13:00.00000028</td>\n",
       "      <td>12.5</td>\n",
       "      <td>2009-10-05 19:13:00 UTC</td>\n",
       "      <td>-73.982347</td>\n",
       "      <td>40.762462</td>\n",
       "      <td>-73.998173</td>\n",
       "      <td>40.722813</td>\n",
       "      <td>2</td>\n",
       "    </tr>\n",
       "    <tr>\n",
       "      <th>6674690</th>\n",
       "      <td>6698322</td>\n",
       "      <td>22878835</td>\n",
       "      <td>2012-06-25 07:18:26.0000002</td>\n",
       "      <td>8.9</td>\n",
       "      <td>2012-06-25 07:18:26 UTC</td>\n",
       "      <td>-73.984772</td>\n",
       "      <td>40.724445</td>\n",
       "      <td>-73.992033</td>\n",
       "      <td>40.748923</td>\n",
       "      <td>1</td>\n",
       "    </tr>\n",
       "    <tr>\n",
       "      <th>8880091</th>\n",
       "      <td>8911582</td>\n",
       "      <td>3511857</td>\n",
       "      <td>2012-09-07 23:43:23.0000002</td>\n",
       "      <td>12.0</td>\n",
       "      <td>2012-09-07 23:43:23 UTC</td>\n",
       "      <td>-73.984412</td>\n",
       "      <td>40.761077</td>\n",
       "      <td>-73.998875</td>\n",
       "      <td>40.732322</td>\n",
       "      <td>2</td>\n",
       "    </tr>\n",
       "    <tr>\n",
       "      <th>8303661</th>\n",
       "      <td>8333107</td>\n",
       "      <td>5383332</td>\n",
       "      <td>2010-06-29 20:17:23.0000007</td>\n",
       "      <td>4.9</td>\n",
       "      <td>2010-06-29 20:17:23 UTC</td>\n",
       "      <td>-73.975040</td>\n",
       "      <td>40.750105</td>\n",
       "      <td>-73.983394</td>\n",
       "      <td>40.743880</td>\n",
       "      <td>1</td>\n",
       "    </tr>\n",
       "    <tr>\n",
       "      <th>5156399</th>\n",
       "      <td>5174572</td>\n",
       "      <td>34394456</td>\n",
       "      <td>2011-01-12 11:21:00.00000063</td>\n",
       "      <td>7.3</td>\n",
       "      <td>2011-01-12 11:21:00 UTC</td>\n",
       "      <td>-73.986378</td>\n",
       "      <td>40.743072</td>\n",
       "      <td>-73.996405</td>\n",
       "      <td>40.759798</td>\n",
       "      <td>5</td>\n",
       "    </tr>\n",
       "  </tbody>\n",
       "</table>\n",
       "</div>"
      ],
      "text/plain": [
       "          Unnamed: 0  Unnamed: 0.1                           key  fare_amount  \\\n",
       "13756128    13804748      49984689  2009-10-05 19:13:00.00000028         12.5   \n",
       "6674690      6698322      22878835   2012-06-25 07:18:26.0000002          8.9   \n",
       "8880091      8911582       3511857   2012-09-07 23:43:23.0000002         12.0   \n",
       "8303661      8333107       5383332   2010-06-29 20:17:23.0000007          4.9   \n",
       "5156399      5174572      34394456  2011-01-12 11:21:00.00000063          7.3   \n",
       "\n",
       "                  pickup_datetime  pickup_longitude  pickup_latitude  \\\n",
       "13756128  2009-10-05 19:13:00 UTC        -73.982347        40.762462   \n",
       "6674690   2012-06-25 07:18:26 UTC        -73.984772        40.724445   \n",
       "8880091   2012-09-07 23:43:23 UTC        -73.984412        40.761077   \n",
       "8303661   2010-06-29 20:17:23 UTC        -73.975040        40.750105   \n",
       "5156399   2011-01-12 11:21:00 UTC        -73.986378        40.743072   \n",
       "\n",
       "          dropoff_longitude  dropoff_latitude  passenger_count  \n",
       "13756128         -73.998173         40.722813                2  \n",
       "6674690          -73.992033         40.748923                1  \n",
       "8880091          -73.998875         40.732322                2  \n",
       "8303661          -73.983394         40.743880                1  \n",
       "5156399          -73.996405         40.759798                5  "
      ]
     },
     "execution_count": 20,
     "metadata": {},
     "output_type": "execute_result"
    }
   ],
   "source": [
    "data_df.tail()"
   ]
  },
  {
   "cell_type": "code",
   "execution_count": null,
   "metadata": {},
   "outputs": [],
   "source": [
    "data_df['new_time'] = (data_df['pickup_datetime']).apply(lambda x: datetime.strptime(x, \"%Y-%m-%d %H:%M:%S %Z\"))    \n",
    "data_df = data_df.drop(['Unnamed: 0','key','pickup_datetime'], axis=1)\n",
    "time_range = (data_df['new_time'] > \"2013-01-01\") & (data_df['new_time'] < \"2016-12-31\")\n",
    "ranged_data = data_df.loc[time_range]"
   ]
  },
  {
   "cell_type": "code",
   "execution_count": null,
   "metadata": {},
   "outputs": [],
   "source": [
    "ranged_data['distance'] = data_df.apply(distance, axis=1)"
   ]
  },
  {
   "cell_type": "code",
   "execution_count": null,
   "metadata": {},
   "outputs": [],
   "source": [
    "ranged_data['year'] = data_df['new_time'].apply(lambda x: x.year)\n",
    "ranged_data['hour_of_day'] = data_df['new_time'].apply(lambda x: x.hour)\n",
    "ranged_data['day'] = data_df['new_time'].apply(lambda x: calendar.day_name[x.weekday()])\n",
    "ranged_data['date'] = data_df['new_time'].apply(lambda x: x.date())\n",
    "\n",
    "#plt.scatter(ranged_data['hour_of_day'],ranged_data['fare_amount'])\n",
    "\n",
    "ranged_data = ranged_data[ranged_data['distance'] < 100]\n"
   ]
  },
  {
   "cell_type": "code",
   "execution_count": null,
   "metadata": {},
   "outputs": [],
   "source": [
    "dummied_data = ranged_data\n",
    "\n",
    "for column in dummied_data.columns:\n",
    " if dummied_data[column].dtype==object:\n",
    "  dummyCols=pd.get_dummies(dummied_data[column])\n",
    "  dummied_data=dummied_data.join(dummyCols)\n",
    "  del dummied_data[column]\n",
    "\n",
    "fares = dummied_data['fare_amount']\n",
    "dummied_data.drop(['fare_amount','pickup_longitude', 'pickup_latitude','dropoff_longitude','new_time'], axis=1,inplace=True)\n",
    "\n",
    "\n",
    "model_1=LinearRegression()\n",
    "model_1.fit(dummied_data,fares)\n",
    "coefficients=pd.DataFrame({'name':list(dummied_data),'value':model_1.coef_})\n",
    "print(\"Mean squared error:\",np.mean((model_1.predict(dummied_data) - fares) ** 2))\n",
    "print(\"R²:\",model_1.score(dummied_data, fares))"
   ]
  },
  {
   "cell_type": "code",
   "execution_count": null,
   "metadata": {},
   "outputs": [],
   "source": [
    "ranged_data = ranged_data.drop(ranged_data[ranged_data['passenger_count'] == 0].index)\n",
    "ranged_data.sort_values(by='passenger_count')"
   ]
  },
  {
   "cell_type": "code",
   "execution_count": null,
   "metadata": {},
   "outputs": [],
   "source": [
    "by_distance=ranged_data.groupby(by='hour_of_day')\n",
    "#x = x.drop(x['day'] == 'Sunday')\n",
    "x = by_distance.agg('mean')['fare_amount']\n",
    "plt.bar(x.index,x)"
   ]
  },
  {
   "cell_type": "code",
   "execution_count": null,
   "metadata": {},
   "outputs": [],
   "source": [
    "plt.title(\"Hour of Day vs Fare Amount\")\n",
    "plt.xlabel(\"Hour of Day \")\n",
    "plt.ylabel(\"Average Fair\")\n",
    "plt.show()"
   ]
  },
  {
   "cell_type": "code",
   "execution_count": null,
   "metadata": {},
   "outputs": [],
   "source": []
  },
  {
   "cell_type": "code",
   "execution_count": null,
   "metadata": {},
   "outputs": [],
   "source": [
    "plt.scatter(ranged_data['distance'],ranged_data['fare_amount'])\n",
    "plt.ylim(0,500)\n",
    "\n",
    "plt.title(\"Distance vs Fare Amount\")\n",
    "plt.xlabel(\"Distance (miles)\")\n",
    "plt.ylabel(\"Fair Amount\")\n",
    "\n",
    "\n",
    "plt.show()\n"
   ]
  },
  {
   "cell_type": "code",
   "execution_count": null,
   "metadata": {},
   "outputs": [],
   "source": [
    "by_distance=ranged_data.groupby(by='day')\n",
    "#x = x.drop(x['day'] == 'Sunday')\n",
    "x = by_distance.agg('mean')['fare_amount']\n",
    "width = 0.4\n",
    "plt.bar(x.index, x, width)"
   ]
  },
  {
   "cell_type": "code",
   "execution_count": null,
   "metadata": {},
   "outputs": [],
   "source": [
    "plt.title(\"Mean of Fare Amounts vs Day\")\n",
    "plt.xlabel(\"Days of the Week\")\n",
    "plt.ylabel(\"Avg Fair Amount\")\n",
    "plt.show()"
   ]
  },
  {
   "cell_type": "code",
   "execution_count": null,
   "metadata": {},
   "outputs": [],
   "source": [
    "by_distance=ranged_data.groupby(by='year')\n",
    "x = by_distance.agg('mean')['fare_amount']\n",
    "width = 0.5\n",
    "plt.bar(x.index, x, width)"
   ]
  },
  {
   "cell_type": "code",
   "execution_count": null,
   "metadata": {},
   "outputs": [],
   "source": [
    "\n",
    "plt.title(\"Mean Fare Amount vs Year\")\n",
    "plt.xlabel(\"Years\")\n",
    "plt.ylabel(\"Avg Fare Amount\")\n",
    "plt.xticks(x.index, ('2013','2014', '2015'))\n"
   ]
  },
  {
   "cell_type": "code",
   "execution_count": null,
   "metadata": {},
   "outputs": [],
   "source": [
    "\n",
    "plt.show()"
   ]
  },
  {
   "cell_type": "code",
   "execution_count": null,
   "metadata": {},
   "outputs": [],
   "source": [
    "\n",
    "x.index"
   ]
  },
  {
   "cell_type": "code",
   "execution_count": null,
   "metadata": {},
   "outputs": [],
   "source": [
    "\n",
    "width = 3.0\n",
    "plt.bar(x.index, x, width, color = \"blue\")\n",
    "plt.title(\"Passenger Count vs Mean Fare Amount\")\n",
    "plt.xlabel(\"Passenger Count\")\n",
    "plt.ylabel(\"Avg Fare Amount\")\n",
    "\n",
    "plt.show()"
   ]
  },
  {
   "cell_type": "code",
   "execution_count": null,
   "metadata": {},
   "outputs": [],
   "source": []
  }
 ],
 "metadata": {
  "anaconda-cloud": {},
  "kernelspec": {
   "display_name": "Python 3",
   "language": "python",
   "name": "python3"
  }
 },
 "nbformat": 4,
 "nbformat_minor": 1
}
